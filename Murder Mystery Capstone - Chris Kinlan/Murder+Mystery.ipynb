{
 "cells": [
  {
   "cell_type": "markdown",
   "metadata": {},
   "source": [
    "# Preamble: A Brand new Jay\n",
    "\n",
    "After an eventful season on season 8 of *A Brand New Jay*, the 3 remaining contestants were invited to Jay Stacksby's private island for the last three episodes. When the day of filming the finale came Mr. Stacksby was found with one of his Professional Series 8-inch Chef Knives plunged through his heart! After the initial investigation highlighted that the film crew all lived in a separate house on the other side of the island, it was concluded that only the three contestants were near enough to Stacksby in order to commit a crime. At the scene of the crime, a letter was left. Here are the contents of that letter:\n",
    "\n",
    "> You may call me heartless, a killer, a monster, a murderer, but I'm still NOTHING compared to the villian that Jay was. This whole contest was a sham, an elaborate plot to shame the contestants and feed Jay's massive, massive ego. SURE you think you know him! You've seen him smiling for the cameras, laughing, joking, telling stories, waving his money around like a prop but off camera he was a sinister beast, a cruel cruel taskmaster, he treated all of us like slaves, like cattle, like animals! Do you remember Lindsay, she was the first to go, he called her such horrible things that she cried all night, keeping up all up, crying, crying, and more crying, he broke her with his words. I miss my former cast members, all of them very much. And we had to live with him, live in his home, live in his power, deal with his crazy demands. AND FOR WHAT! DID YOU KNOW THAT THE PRIZE ISN'T REAL? He never intended to marry one of us! The carrot on the stick was gone, all that was left was stick, he told us last night that we were all a terrible terrible disappointment and none of us would ever amount to anything, and that regardless of who won the contest he would never speak to any of us again! It's definitely the things like this you can feel in your gut how wrong he is! Well I showed him, he got what he deserved all right, I showed him, I showed him the person I am! I wasn't going to be pushed around any longer, and I wasn't going to let him go on pretending that he was some saint when all he was was a sick sick twisted man who deserved every bit of what he got. The fans need to know, Jay Stacksby is a vile amalgamation of all things evil and bad and the world is a better place without him.\n",
    "\n",
    "Pretty sinister stuff! Luckily, in addition to this bold-faced admission, we have the introduction letters of the three contestants. Maybe there is a way to use this information to determine who the author of this murder letter is?\n",
    "\n",
    "Myrtle Beech's introduction letter:\n",
    "> Salutations. My name? Myrtle. Myrtle Beech. I am a woman of simple tastes. I enjoy reading, thinking, and doing my taxes. I entered this competition because I want a serious relationship. I want a commitment. The last man I dated was too whimsical. He wanted to go on dates that had no plan. No end goal. Sometimes we would just end up wandering the streets after dinner. He called it a \"walk\". A \"walk\" with no destination. Can you imagine? I like every action I take to have a measurable effect. When I see a movie, I like to walk away with insights that I did not have before. When I take a bike ride, there better be a worthy destination at the end of the bike path. Jay seems frivolous at times. This worries me. However, it is my staunch belief that one does not make and keep money without having a modicum of discipline. As such, I am hopeful. I will now list three things I cannot live without. Water. Emery boards. Dogs. Thank you for the opportunity to introduce myself. I look forward to the competition. \n",
    "\n",
    "Lily Trebuchet's introduction letter:\n",
    "> Hi, I'm Lily Trebuchet from East Egg, Long Island. I love cats, hiking, and curling up under a warm blanket with a book. So they gave this little questionnaire to use for our bios so lets get started. What are some of my least favorite household chores? Dishes, oh yes it's definitely the dishes, I just hate doing them, don't you? Who is your favorite actor and why? Hmm, that's a hard one, but I think recently I'll have to go with Michael B. Jordan, every bit of that man is handsome, HANDSOME! Do you remember seeing him shirtless? I can't believe what he does for the cameras! Okay okay next question, what is your perfect date? Well it starts with a nice dinner at a delicious but small restaurant, you know like one of those places where the owner is in the back and comes out to talk to you and ask you how your meal was. My favorite form of art? Another hard one, but I think I'll have to go with music, music you can feel in your whole body and it is electrifying and best of all, you can dance to it! Okay final question, let's see, What are three things you cannot live without? Well first off, my beautiful, beautiful cat Jerry, he is my heart and spirit animal. Second is pasta, definitely pasta, and the third I think is my family, I love all of them very much and they support me in everything I do. I know Jay Stacksby is a handsome man and all of us want to be the first to walk down the aisle with him, but I think he might truly be the one for me. Okay that's it for the bio, I hope you have fun watching the show! \n",
    "\n",
    "Gregg T Fishy's introduction letter:\n",
    "\n",
    "> A most good day to you all, I am Gregg T Fishy, of the Fishy Enterprise fortune. I am 37 years young, an adventurous spirit and I've never lost my sense of childlike wonder. I do love to be in the backyard gardening and I have the most extraordinary time when I'm fishing. Fishing for what, you might find yourself asking? Why, I happen to always be fishing for compliments of course! I have a stunning pair of radiant blue eyes that will pierce the soul of anyone who dare gaze upon my countenance. I quite enjoy going on long jaunts through garden paths and short walks through greenhouses. I hope that Jay will be as absolutely interesting as he appears on the television, I find that he has some of the most curious tastes in style and humor. When I'm out and about I quite enjoy hearing tales that instill in my heart of hearts the fascination that beguiles my every day life, every fiber of my being scintillates and vascillates with extreme pleasure during one of these charming anecdotes and significantly pleases my beautiful personage. I cannot wait to enjoy being on the television program A Jay To Remember, it certainly seems like a grand time to explore life and love."
   ]
  },
  {
   "cell_type": "markdown",
   "metadata": {},
   "source": [
    "## Saving The Different Examples as Variables\n",
    "\n",
    "First let's create variables to hold the text data in! Save the muder note as a string in a variable called `murder_note`. Save Lily Trebuchet's introduction into `lily_trebuchet_intro`. Save Myrtle Beech's introduction into `myrtle_beech_intro`. Save Gregg T Fishy's introduction into `gregg_t_fishy_intro`."
   ]
  },
  {
   "cell_type": "code",
   "execution_count": 23,
   "metadata": {},
   "outputs": [],
   "source": [
    "murder_note = \"You may call me heartless, a killer, a monster, a murderer, but I'm still NOTHING compared to the villian that Jay was. This whole contest was a sham, an elaborate plot to shame the contestants and feed Jay's massive, massive ego. SURE you think you know him! You've seen him smiling for the cameras, laughing, joking, telling stories, waving his money around like a prop but off camera he was a sinister beast, a cruel cruel taskmaster, he treated all of us like slaves, like cattle, like animals! Do you remember Lindsay, she was the first to go, he called her such horrible things that she cried all night, keeping up all up, crying, crying, and more crying, he broke her with his words. I miss my former cast members, all of them very much. And we had to live with him, live in his home, live in his power, deal with his crazy demands. AND FOR WHAT! DID YOU KNOW THAT THE PRIZE ISN'T REAL? He never intended to marry one of us! The carrot on the stick was gone, all that was left was stick, he told us last night that we were all a terrible terrible disappointment and none of us would ever amount to anything, and that regardless of who won the contest he would never speak to any of us again! It's definitely the things like this you can feel in your gut how wrong he is! Well I showed him, he got what he deserved all right, I showed him, I showed him the person I am! I wasn't going to be pushed around any longer, and I wasn't going to let him go on pretending that he was some saint when all he was was a sick sick twisted man who deserved every bit of what he got. The fans need to know, Jay Stacksby is a vile amalgamation of all things evil and bad and the world is a better place without him.\"\n",
    "lily_trebuchet_intro = \"Hi, I'm Lily Trebuchet from East Egg, Long Island. I love cats, hiking, and curling up under a warm blanket with a book. So they gave this little questionnaire to use for our bios so lets get started. What are some of my least favorite household chores? Dishes, oh yes it's definitely the dishes, I just hate doing them, don't you? Who is your favorite actor and why? Hmm, that's a hard one, but I think recently I'll have to go with Michael B. Jordan, every bit of that man is handsome, HANDSOME! Do you remember seeing him shirtless? I can't believe what he does for the cameras! Okay okay next question, what is your perfect date? Well it starts with a nice dinner at a delicious but small restaurant, you know like one of those places where the owner is in the back and comes out to talk to you and ask you how your meal was. My favorite form of art? Another hard one, but I think I'll have to go with music, music you can feel in your whole body and it is electrifying and best of all, you can dance to it! Okay final question, let's see, What are three things you cannot live without? Well first off, my beautiful, beautiful cat Jerry, he is my heart and spirit animal. Second is pasta, definitely pasta, and the third I think is my family, I love all of them very much and they support me in everything I do. I know Jay Stacksby is a handsome man and all of us want to be the first to walk down the aisle with him, but I think he might truly be the one for me. Okay that's it for the bio, I hope you have fun watching the show!\"\n",
    "myrtle_beech_intro = \"Salutations. My name? Myrtle. Myrtle Beech. I am a woman of simple tastes. I enjoy reading, thinking, and doing my taxes. I entered this competition because I want a serious relationship. I want a commitment. The last man I dated was too whimsical. He wanted to go on dates that had no plan. No end goal. Sometimes we would just end up wandering the streets after dinner. He called it a \\\"walk\\\". A \\\"walk\\\" with no destination. Can you imagine? I like every action I take to have a measurable effect. When I see a movie, I like to walk away with insights that I did not have before. When I take a bike ride, there better be a worthy destination at the end of the bike path. Jay seems frivolous at times. This worries me. However, it is my staunch belief that one does not make and keep money without having a modicum of discipline. As such, I am hopeful. I will now list three things I cannot live without. Water. Emery boards. Dogs. Thank you for the opportunity to introduce myself. I look forward to the competition.\"\n",
    "gregg_t_fishy_intro = \"A most good day to you all, I am Gregg T Fishy, of the Fishy Enterprise fortune. I am 37 years young, an adventurous spirit and I've never lost my sense of childlike wonder. I do love to be in the backyard gardening and I have the most extraordinary time when I'm fishing. Fishing for what, you might find yourself asking? Why, I happen to always be fishing for compliments of course! I have a stunning pair of radiant blue eyes that will pierce the soul of anyone who dare gaze upon my countenance. I quite enjoy going on long jaunts through garden paths and short walks through greenhouses. I hope that Jay will be as absolutely interesting as he appears on the television, I find that he has some of the most curious tastes in style and humor. When I'm out and about I quite enjoy hearing tales that instill in my heart of hearts the fascination that beguiles my every day life, every fiber of my being scintillates and vascillates with extreme pleasure during one of these charming anecdotes and significantly pleases my beautiful personage. I cannot wait to enjoy being on the television program A Jay To Remember, it certainly seems like a grand time to explore life and love.\"\n",
    "#print(len(murder_note))\n",
    "#this defines the clues"
   ]
  },
  {
   "cell_type": "markdown",
   "metadata": {},
   "source": [
    "## The First Indicator: Sentence Length\n",
    "\n",
    "Perhaps some meaningful data can first be gleaned from these text examples if we measure how long the average sentence length is. Different authors have different patterns of written speech, so this could be very useful in tracking down the killer.\n",
    "\n",
    "Write a function `get_average_sentence_length` that takes some `text` as an argument. This function should return the average length of a sentence in the text.\n",
    "\n",
    "Hint (highlight this hint in order to reveal it): \n",
    "<font color=\"white\">Use your knowledge of _string methods_ to create a list of all of the sentences in a text, called **sentences_in_text**. \n",
    "Further break up each **sentences_in_text** into a list of words and save the _length_ of that list of words to a new list that contains all the sentence lengths, called **sentence_lengths**. Take the average of all of the sentence lengths by adding them all together and dividing by the number of sentences (which should be the same as the length of the **sentence_lengths**).\n",
    "\n",
    "Remember sentences can end with more than one kind of punctuation, you might find it easiest to use **.replace()** so you only have to split on one punctuation mark. Remember **.replace()** doesn't modify the string itself, it returns a new string!</font>"
   ]
  },
  {
   "cell_type": "code",
   "execution_count": 24,
   "metadata": {},
   "outputs": [
    {
     "name": "stdout",
     "output_type": "stream",
     "text": [
      "22.066666666666666\n",
      "15.842105263157896\n",
      "6.75\n",
      "21.3\n"
     ]
    }
   ],
   "source": [
    "\n",
    "\n",
    "def sentences_in_text(text):\n",
    "    no_qm = text.replace('?', '.')\n",
    "    no_ep = no_qm.replace('!', '.')\n",
    "    sentences_in_text = no_ep.split('.')\n",
    "    return sentences_in_text\n",
    "\n",
    "#print(sentences_in_text(murder_note))\n",
    "#this function seperates the original texts into sentences as specified in the directions\n",
    "# it generates an extra at the end. I don't know why.\n",
    "\n",
    "#print(len(sentences_in_text(murder_note)))\n",
    "#this printed 16 - the last one is nothing\n",
    "\n",
    "def get_average_sentence_length(list):\n",
    "    counter = []\n",
    "    for e in list:\n",
    "        e = e.split()\n",
    "        counter = counter + [len(e)]\n",
    "    #print(counter)\n",
    "    sum_of_e = 0\n",
    "    for e in counter:\n",
    "        sum_of_e += e\n",
    "    #print(sum_of_e)\n",
    "    return float((sum_of_e / (len(list) - 1)))\n",
    "    print (sum_of_e / (len(list) - 1))\n",
    "#this function calculates the average word per sentenence in a given string.\n",
    "\n",
    "print(get_average_sentence_length(sentences_in_text(murder_note)))\n",
    "print(get_average_sentence_length(sentences_in_text(lily_trebuchet_intro)))\n",
    "print(get_average_sentence_length(sentences_in_text(myrtle_beech_intro)))\n",
    "print(get_average_sentence_length(sentences_in_text(gregg_t_fishy_intro)))\n"
   ]
  },
  {
   "cell_type": "markdown",
   "metadata": {},
   "source": [
    "## Cleaning Our Data\n",
    "\n",
    "We want to compare the word choice and usage between the samples, but sentences make our text data fairly messy. In order to analyze the different messages fairly, we'll need to remove all the punctuation and uppercase letters from the samples.\n",
    "\n",
    "Create a function called `prepare_text` that takes a single parameter `text`, makes the text entirely lowercase, removes all the punctuation and returns a list of the words in the text in order.\n",
    "\n",
    "For example: `\"Where did you go, friend? We nearly saw each other.\"` would become `['where', 'did', 'you', 'go', 'friend', 'we', 'nearly', 'saw', 'each', 'other']`."
   ]
  },
  {
   "cell_type": "code",
   "execution_count": 25,
   "metadata": {},
   "outputs": [],
   "source": [
    "def prepared_text(text):\n",
    "    no_qm = text.replace('?', ' ')\n",
    "    no_ep = no_qm.replace('!', ' ')\n",
    "    no_com = no_ep.replace(',', ' ')\n",
    "    no_per = no_com.replace('.', ' ')\n",
    "    lower = no_per.lower()\n",
    "    stripped = lower.strip()\n",
    "    prepared_text = stripped.split(' ')\n",
    "    return prepared_text\n",
    "#this function cleans up the data before we further split it into individual words.\n",
    "    \n",
    "#print(prepare_text(murder_note))\n",
    "#print(murder_note)\n"
   ]
  },
  {
   "cell_type": "markdown",
   "metadata": {},
   "source": [
    "Update the constructor for `TextSample` to save the prepared text as `self.prepared_text`."
   ]
  },
  {
   "cell_type": "markdown",
   "metadata": {},
   "source": [
    "## Building A Frequency Table\n",
    "\n",
    "Now we want to see which words were most frequently used in each of the samples. Create a function called `build_frequency_table`. It takes in a list called `corpus` and creates a dictionary called `frequency_table`. For every element in `corpus` the value `frequency_table[element]` should be equal to the number of times that element appears in `corpus`. For example the input `['do', 'you', 'see', 'what', 'i', 'see']` would create the frequency table `{'what': 1, 'you': 1, 'see' 2, 'i': 1}`."
   ]
  },
  {
   "cell_type": "code",
   "execution_count": 26,
   "metadata": {},
   "outputs": [],
   "source": [
    "def build_frequency_table(corpus):\n",
    "    frequency_table = {}\n",
    "    for word in corpus:\n",
    "        if word not in frequency_table:\n",
    "            frequency_table[word] = 0\n",
    "        frequency_table[word] += 1\n",
    "    return frequency_table\n",
    "\n",
    "#this function creates a frequenct table out of our clue variables when we call them in it."
   ]
  },
  {
   "cell_type": "markdown",
   "metadata": {},
   "source": [
    "## The Second Indicator: Favorite Words\n",
    "\n",
    "Use `build_frequency_table` with the prepared text to create a frequency table that counts how frequently all the words in each text sample appears. Call these functions in the constructor for `TextSample` and assign the word frequency table to a value called `self.word_count_frequency`."
   ]
  },
  {
   "cell_type": "code",
   "execution_count": 27,
   "metadata": {},
   "outputs": [
    {
     "data": {
      "text/plain": [
       "{'you': 6,\n",
       " 'may': 1,\n",
       " 'call': 1,\n",
       " 'me': 1,\n",
       " 'heartless': 1,\n",
       " '': 47,\n",
       " 'a': 11,\n",
       " 'killer': 1,\n",
       " 'monster': 1,\n",
       " 'murderer': 1,\n",
       " 'but': 2,\n",
       " \"i'm\": 1,\n",
       " 'still': 1,\n",
       " 'nothing': 1,\n",
       " 'compared': 1,\n",
       " 'to': 10,\n",
       " 'the': 12,\n",
       " 'villian': 1,\n",
       " 'that': 7,\n",
       " 'jay': 2,\n",
       " 'was': 10,\n",
       " 'this': 2,\n",
       " 'whole': 1,\n",
       " 'contest': 2,\n",
       " 'sham': 1,\n",
       " 'an': 1,\n",
       " 'elaborate': 1,\n",
       " 'plot': 1,\n",
       " 'shame': 1,\n",
       " 'contestants': 1,\n",
       " 'and': 9,\n",
       " 'feed': 1,\n",
       " \"jay's\": 1,\n",
       " 'massive': 2,\n",
       " 'ego': 1,\n",
       " 'sure': 1,\n",
       " 'think': 1,\n",
       " 'know': 3,\n",
       " 'him': 8,\n",
       " \"you've\": 1,\n",
       " 'seen': 1,\n",
       " 'smiling': 1,\n",
       " 'for': 2,\n",
       " 'cameras': 1,\n",
       " 'laughing': 1,\n",
       " 'joking': 1,\n",
       " 'telling': 1,\n",
       " 'stories': 1,\n",
       " 'waving': 1,\n",
       " 'his': 5,\n",
       " 'money': 1,\n",
       " 'around': 2,\n",
       " 'like': 5,\n",
       " 'prop': 1,\n",
       " 'off': 1,\n",
       " 'camera': 1,\n",
       " 'he': 13,\n",
       " 'sinister': 1,\n",
       " 'beast': 1,\n",
       " 'cruel': 2,\n",
       " 'taskmaster': 1,\n",
       " 'treated': 1,\n",
       " 'all': 9,\n",
       " 'of': 8,\n",
       " 'us': 5,\n",
       " 'slaves': 1,\n",
       " 'cattle': 1,\n",
       " 'animals': 1,\n",
       " 'do': 1,\n",
       " 'remember': 1,\n",
       " 'lindsay': 1,\n",
       " 'she': 2,\n",
       " 'first': 1,\n",
       " 'go': 2,\n",
       " 'called': 1,\n",
       " 'her': 2,\n",
       " 'such': 1,\n",
       " 'horrible': 1,\n",
       " 'things': 3,\n",
       " 'cried': 1,\n",
       " 'night': 2,\n",
       " 'keeping': 1,\n",
       " 'up': 2,\n",
       " 'crying': 3,\n",
       " 'more': 1,\n",
       " 'broke': 1,\n",
       " 'with': 3,\n",
       " 'words': 1,\n",
       " 'i': 7,\n",
       " 'miss': 1,\n",
       " 'my': 1,\n",
       " 'former': 1,\n",
       " 'cast': 1,\n",
       " 'members': 1,\n",
       " 'them': 1,\n",
       " 'very': 1,\n",
       " 'much': 1,\n",
       " 'we': 2,\n",
       " 'had': 1,\n",
       " 'live': 3,\n",
       " 'in': 3,\n",
       " 'home': 1,\n",
       " 'power': 1,\n",
       " 'deal': 1,\n",
       " 'crazy': 1,\n",
       " 'demands': 1,\n",
       " 'what': 3,\n",
       " 'did': 1,\n",
       " 'prize': 1,\n",
       " \"isn't\": 1,\n",
       " 'real': 1,\n",
       " 'never': 2,\n",
       " 'intended': 1,\n",
       " 'marry': 1,\n",
       " 'one': 1,\n",
       " 'carrot': 1,\n",
       " 'on': 2,\n",
       " 'stick': 2,\n",
       " 'gone': 1,\n",
       " 'left': 1,\n",
       " 'told': 1,\n",
       " 'last': 1,\n",
       " 'were': 1,\n",
       " 'terrible': 2,\n",
       " 'disappointment': 1,\n",
       " 'none': 1,\n",
       " 'would': 2,\n",
       " 'ever': 1,\n",
       " 'amount': 1,\n",
       " 'anything': 1,\n",
       " 'regardless': 1,\n",
       " 'who': 2,\n",
       " 'won': 1,\n",
       " 'speak': 1,\n",
       " 'any': 2,\n",
       " 'again': 1,\n",
       " \"it's\": 1,\n",
       " 'definitely': 1,\n",
       " 'can': 1,\n",
       " 'feel': 1,\n",
       " 'your': 1,\n",
       " 'gut': 1,\n",
       " 'how': 1,\n",
       " 'wrong': 1,\n",
       " 'is': 3,\n",
       " 'well': 1,\n",
       " 'showed': 3,\n",
       " 'got': 2,\n",
       " 'deserved': 2,\n",
       " 'right': 1,\n",
       " 'person': 1,\n",
       " 'am': 1,\n",
       " \"wasn't\": 2,\n",
       " 'going': 2,\n",
       " 'be': 1,\n",
       " 'pushed': 1,\n",
       " 'longer': 1,\n",
       " 'let': 1,\n",
       " 'pretending': 1,\n",
       " 'some': 1,\n",
       " 'saint': 1,\n",
       " 'when': 1,\n",
       " 'sick': 2,\n",
       " 'twisted': 1,\n",
       " 'man': 1,\n",
       " 'every': 1,\n",
       " 'bit': 1,\n",
       " 'fans': 1,\n",
       " 'need': 1,\n",
       " 'stacksby': 1,\n",
       " 'vile': 1,\n",
       " 'amalgamation': 1,\n",
       " 'evil': 1,\n",
       " 'bad': 1,\n",
       " 'world': 1,\n",
       " 'better': 1,\n",
       " 'place': 1,\n",
       " 'without': 1}"
      ]
     },
     "execution_count": 27,
     "metadata": {},
     "output_type": "execute_result"
    }
   ],
   "source": [
    "build_frequency_table(prepared_text(murder_note))\n",
    "\n",
    "#this is an example of the function building the frequency table with our first clue variable."
   ]
  },
  {
   "cell_type": "markdown",
   "metadata": {},
   "source": [
    "## The Third Indicator: N-Grams\n",
    "\n",
    "An <a href='https://en.wikipedia.org/wiki/N-gram' target=\"_blank\">n-gram</a> is a text analysis technique used for pattern recognition and applicable throughout lingusitics. We're going to use n-grams to find who uses similar word-pairs to the murderer, and we think it's going to make our evidence strong enough to conclusively find the killer.\n",
    "\n",
    "Create a function called `ngram_creator` that takes a parameter `text_list`, a treated in-order list of the words in a text sample. `ngram_creator` should return a list of all adjacent pairs of words, styled as strings with a space in the center.\n",
    "\n",
    "For instance, calling `ngram_creator` with the input `['what', 'in', 'the', 'world', 'is', 'going', 'on']`\n",
    "Should produce the output `['what in', 'in the', 'the world', 'world is', 'is going', 'going on']`.\n",
    "\n",
    "These are two-word n-grams."
   ]
  },
  {
   "cell_type": "code",
   "execution_count": 28,
   "metadata": {},
   "outputs": [],
   "source": [
    "def ngram_creator(text_list):\n",
    "    ngram_table = []\n",
    "    x = 0\n",
    "    while x < len(text_list) - 1:\n",
    "        ngram_table.append(text_list[x] + ' ' + text_list[x + 1])\n",
    "        x += 1\n",
    "    return ngram_table\n",
    "#this function creates the n-gram from our clue variables when they are called.\n",
    "\n",
    "#print(ngram_creator(prepared_text(murder_note)))\n",
    "#print(len(list(prepared_text(murder_note))))"
   ]
  },
  {
   "cell_type": "markdown",
   "metadata": {},
   "source": [
    "Use `ngram_creator` along with the prepared text to create a list of all the two-word ngrams in each `TextSample`. Use `build_frequency_table` to tabulate the frequency of each ngram. In the constructor for `TextSample` save this frequency table as `self.ngram_frequency`."
   ]
  },
  {
   "cell_type": "markdown",
   "metadata": {},
   "source": [
    "## Comparing Two Frequency Tables\n",
    "\n",
    "We want to know how similar two frequency tables are, let's write a function that computes the comparison between two frequency tables and scores them based on similarity.\n",
    "\n",
    "Write a function called `frequency_comparison` that takes two parameters, `table1` and `table2`. It should define two local variables, `appearances` and `mutual_appearances`. \n",
    "\n",
    "Iterate through `table1`'s keys and check if `table2` has the same key defined. If it is, compare the two values for the key -- the smaller value should get added to `mutual_appearances` and the larger should get added to `appearances`. If the key doesn't exist in `table2` the value for the key in `table1` should be added to `appearances`.\n",
    "\n",
    "Remember afterwards to iterate through all of `table2`'s keys that aren't in `table1` and add those to `appearances` as well.\n",
    "\n",
    "Return a frequency comparison score equal to the mutual appearances divided by the total appearances."
   ]
  },
  {
   "cell_type": "code",
   "execution_count": 29,
   "metadata": {},
   "outputs": [
    {
     "data": {
      "text/plain": [
       "0.026234567901234566"
      ]
     },
     "execution_count": 29,
     "metadata": {},
     "output_type": "execute_result"
    }
   ],
   "source": [
    "def frequency_comparison(table1, table2):\n",
    "    appearances = 0\n",
    "    mutual_appearances = 0\n",
    "    for key in table1:\n",
    "        if key in table2:\n",
    "            if table1[key] > table2[key]:\n",
    "                appearances += table1[key]\n",
    "                mutual_appearances += table2[key]\n",
    "            if table2[key] > table1[key]:\n",
    "                appearances += table2[key]\n",
    "                mutual_appearances += table1[key]\n",
    "        else:\n",
    "            appearances += table1[key]\n",
    "    for key in table2:\n",
    "        if not key in table1:\n",
    "            appearances += table2[key]\n",
    "    return float(mutual_appearances / appearances)\n",
    "\n",
    "# This function compares two frequency tables. You can see the differences in the two below. \n",
    "\n",
    "#frequency_comparison(build_frequency_table(prepared_text(murder_note)), build_frequency_table(prepared_text(lily_trebuchet_intro)))\n",
    "                     \n",
    "frequency_comparison(build_frequency_table(ngram_creator(prepared_text(murder_note))), build_frequency_table(ngram_creator(prepared_text(lily_trebuchet_intro))))"
   ]
  },
  {
   "cell_type": "markdown",
   "metadata": {},
   "source": [
    "## Comparing Average Sentence Length\n",
    "\n",
    "In order to calculate the change between the average sentence lengths of two `TextSamples` we're going to use the formula for the percent difference.\n",
    "\n",
    "Write a function called `percent_difference` that returns the percent difference as calculated from the following formula:\n",
    "\n",
    "$$\\frac{|\\ value1 - value2\\ |}{\\frac{value1 + value2}{2}}$$\n",
    "\n",
    "In the numerator is the absolute value (use `abs()`) of the two values subtracted from each other. In the denominator is the average of the two values (value1 + value2 divided by two)."
   ]
  },
  {
   "cell_type": "code",
   "execution_count": 30,
   "metadata": {},
   "outputs": [
    {
     "name": "stdout",
     "output_type": "stream",
     "text": [
      "0.3283968900407256\n",
      "1.0630422209369579\n",
      "0.035357417371252836\n"
     ]
    }
   ],
   "source": [
    "def percent_difference(sample1, sample2):\n",
    "    percent_difference = abs((sample1 - sample2) / ((sample1 + sample2) / 2))\n",
    "    return percent_difference\n",
    "\n",
    "#this calculates the percentage difference between clue variables.\n",
    "\n",
    "sample_mn = get_average_sentence_length(sentences_in_text(murder_note))\n",
    "sample_lt = get_average_sentence_length(sentences_in_text(lily_trebuchet_intro))\n",
    "sample_mb = get_average_sentence_length(sentences_in_text(myrtle_beech_intro))\n",
    "sample_gf = get_average_sentence_length(sentences_in_text(gregg_t_fishy_intro))\n",
    "print(percent_difference(sample_lt, sample_mn))\n",
    "print(percent_difference(sample_mb, sample_mn))\n",
    "print(percent_difference(sample_gf, sample_mn))\n",
    "#print(type(sample_mn))"
   ]
  },
  {
   "cell_type": "markdown",
   "metadata": {},
   "source": [
    "## Scoring Similarity with All Three Indicators\n",
    "\n",
    "We want to figure out who did it, so let's use all three of the indicators we built to score text similarity. Define a function `find_text_similarity` that takes two `TextSample` arguments and returns a float between 0 and 1 where 0 means completely different and 1 means the same exact sample. You can evaluate the similarity by the following criteria:\n",
    "\n",
    "- Calculate the percent difference of their average sentence length using `percent_difference`. Save that into a variable called `sentence_length_difference`. Since we want to find how _similar_ the two passages are calculate the inverse of `sentence_length_difference` by using the formula `abs(1 - sentence_length_difference)`. Save that into a variable called `sentence_length_similarity`.\n",
    "- Calculate the difference between their word usage using `frequency_comparison` on both `TextSample`'s `word_count_frequency` attributes. Save that into a variable called `word_count_similarity`.\n",
    "- Calculate the difference between their two-word ngram using `frequency_table` on both `TextSample`'s `ngram_frequency` attributes. Save that into a variable called `ngram_similarity`.\n",
    "- Add all three similarities together and divide by 3."
   ]
  },
  {
   "cell_type": "code",
   "execution_count": 31,
   "metadata": {},
   "outputs": [
    {
     "name": "stdout",
     "output_type": "stream",
     "text": [
      "0.32088416422510796\n",
      "0.09097748099042542\n",
      "0.3794328248416931\n"
     ]
    }
   ],
   "source": [
    "def find_text_similarity(text1, text2):\n",
    "    sample_text1 = get_average_sentence_length(sentences_in_text(text1))\n",
    "    sample_text2 = get_average_sentence_length(sentences_in_text(text2))\n",
    "    sentence_length_difference = percent_difference(sample_text1, sample_text2)\n",
    "    sentence_length_similarity = abs(1 - sentence_length_difference)\n",
    "    word_count_similarity = frequency_comparison(build_frequency_table(prepared_text(text1)), build_frequency_table(prepared_text(text2)))\n",
    "    ngram_similarity = frequency_comparison(build_frequency_table(ngram_creator(prepared_text(text1))), build_frequency_table(ngram_creator(prepared_text(text2))))\n",
    "    similarity_index = (sentence_length_similarity + word_count_similarity + ngram_similarity) / 3\n",
    "    print(similarity_index)\n",
    "    \n",
    "# This calculates the similarity index between the clue variables based on all the above work.\n",
    "# This is where I hit the time wall and just powered through.\n",
    "        \n",
    "find_text_similarity(murder_note, lily_trebuchet_intro)\n",
    "find_text_similarity(murder_note, myrtle_beech_intro)\n",
    "find_text_similarity(murder_note, gregg_t_fishy_intro)"
   ]
  },
  {
   "cell_type": "markdown",
   "metadata": {},
   "source": [
    "## Creating The Definition for Our Model\n",
    "\n",
    "Now that we have a metric we want to save and data that is coupled with that metric, it might be time to create our data type. Let's define a class called `TextSample` with a constructor. The constructor should take two arguments: `text` and `author`. `text` should be saved as `self.raw_text`. Call `get_average_sentence_length` with the raw text and save it to `self.average_sentence_length`. You should save the author of the text as `self.author`.\n",
    "\n",
    "Additionally, define a string representation for the model. If you print a `TextSample` it should render:\n",
    " - The author's name\n",
    " - The average sentence length\n",
    " \n",
    "This will be your main class for the problem at hand. All later instruction to update `TextSample` should be done in the code block below. After updating `TextSample`, click on the `Cell` option in the Jupyter Notebook main menu above, then click `Run All` to rerun the cells from top to bottom. If you need to restart your Jupyter Notebook either run the cells below first or move the `TextSample` class definition & instantiation cells to the bottom."
   ]
  },
  {
   "cell_type": "code",
   "execution_count": 32,
   "metadata": {},
   "outputs": [],
   "source": [
    "class TextSample:\n",
    "    def __init__(self, text, author):\n",
    "      self.raw_text = text\n",
    "      self.author = author\n",
    "      self.average_sentence_length = get_average_sentence_length(sentences_in_text(text))\n",
    "      self.prepared_text = prepared_text(text)\n",
    "      self.word_count_frequency = build_frequency_table(prepared_text(text))\n",
    "      self.ngram_frequency = build_frequency_table(ngram_creator(self.prepared_text))\n",
    "    \n",
    "    def __repr__(self):\n",
    "        return \"{}'s average sentence length is {}\".format(self.author, self.average_sentence_length)\n",
    "    \n",
    "#I ran out of time - my fault completely.  I had trouble with the objects and classes.\n",
    "# There should be an additional __repr__ to list out the results and there should be additional \n",
    "    "
   ]
  },
  {
   "cell_type": "markdown",
   "metadata": {},
   "source": [
    "### Creating our TextSample Instances\n",
    "\n",
    "Now create a `TextSample` object for each of the samples of text that we have.\n",
    " - `murderer_sample` for the murderer's note.\n",
    " - `lily_sample` for Lily Trebuchet's note.\n",
    " - `myrtle_sample` for Myrtle Beech's note.\n",
    " - `gregg_sample` for Gregg T Fishy's note.\n",
    " \n",
    "Print out each one after instantiating them."
   ]
  },
  {
   "cell_type": "code",
   "execution_count": 33,
   "metadata": {},
   "outputs": [
    {
     "name": "stdout",
     "output_type": "stream",
     "text": [
      "Murderer's average sentence length is 22.066666666666666\n",
      "Lily Trebuchet's average sentence length is 15.842105263157896\n",
      "Myrtle Beech's average sentence length is 6.75\n",
      "Gregg T Fishy's average sentence length is 21.3\n"
     ]
    }
   ],
   "source": [
    "murderer_sample = print(TextSample(murder_note, \"Murderer\"))\n",
    "lily_sample = print(TextSample(lily_trebuchet_intro, \"Lily Trebuchet\"))\n",
    "myrtle_sample = print(TextSample(myrtle_beech_intro, \"Myrtle Beech\"))\n",
    "gregg_sample = print(TextSample(gregg_t_fishy_intro, \"Gregg T Fishy\"))\n",
    "#this tests the TextSample"
   ]
  },
  {
   "cell_type": "markdown",
   "metadata": {},
   "source": [
    "## Rendering the Results\n",
    "\n",
    "We want to print out the results in a way that we can read! For each contestant on _A Brand New Jay_ print out the following:\n",
    "\n",
    "- Their name\n",
    "- Their similarity score to the murder letter"
   ]
  },
  {
   "cell_type": "code",
   "execution_count": 34,
   "metadata": {
    "scrolled": false
   },
   "outputs": [
    {
     "name": "stdout",
     "output_type": "stream",
     "text": [
      "Lily Trebuchet's similarity score to the murder letter is:\n",
      "0.32088416422510796\n",
      "Myrtle Beech's similarity score to the murder letter is:\n",
      "0.09097748099042542\n",
      "Gregg T. Fishy's similarity score to the murder letter is:\n",
      "0.3794328248416931\n"
     ]
    }
   ],
   "source": [
    "print(\"Lily Trebuchet's similarity score to the murder letter is:\")\n",
    "find_text_similarity(murder_note, lily_trebuchet_intro)\n",
    "print(\"Myrtle Beech's similarity score to the murder letter is:\")\n",
    "find_text_similarity(murder_note, myrtle_beech_intro)\n",
    "print(\"Gregg T. Fishy's similarity score to the murder letter is:\")\n",
    "find_text_similarity(murder_note, gregg_t_fishy_intro)"
   ]
  },
  {
   "cell_type": "markdown",
   "metadata": {},
   "source": [
    "# Who Dunnit?\n",
    "\n",
    "In the cell below, print the name of the person who killed Jay Stacksby."
   ]
  },
  {
   "cell_type": "code",
   "execution_count": 35,
   "metadata": {},
   "outputs": [
    {
     "name": "stdout",
     "output_type": "stream",
     "text": [
      "Gregg T. Fishy is the person who killed Jay Stacksby.\n"
     ]
    }
   ],
   "source": [
    "print(\"Gregg T. Fishy is the person who killed Jay Stacksby.\")"
   ]
  },
  {
   "cell_type": "code",
   "execution_count": null,
   "metadata": {},
   "outputs": [],
   "source": []
  }
 ],
 "metadata": {
  "kernelspec": {
   "display_name": "Python 3",
   "language": "python",
   "name": "python3"
  },
  "language_info": {
   "codemirror_mode": {
    "name": "ipython",
    "version": 3
   },
   "file_extension": ".py",
   "mimetype": "text/x-python",
   "name": "python",
   "nbconvert_exporter": "python",
   "pygments_lexer": "ipython3",
   "version": "3.6.5"
  }
 },
 "nbformat": 4,
 "nbformat_minor": 2
}
